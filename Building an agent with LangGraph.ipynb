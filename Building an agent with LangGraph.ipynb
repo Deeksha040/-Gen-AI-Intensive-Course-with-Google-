{
  "metadata": {
    "kernelspec": {
      "language": "python",
      "display_name": "Python 3",
      "name": "python3"
    },
    "language_info": {
      "name": "python",
      "version": "3.10.12",
      "mimetype": "text/x-python",
      "codemirror_mode": {
        "name": "ipython",
        "version": 3
      },
      "pygments_lexer": "ipython3",
      "nbconvert_exporter": "python",
      "file_extension": ".py"
    },
    "kaggle": {
      "accelerator": "none",
      "dataSources": [],
      "dockerImageVersionId": 30918,
      "isInternetEnabled": true,
      "language": "python",
      "sourceType": "notebook",
      "isGpuEnabled": false
    },
    "colab": {
      "name": "notebook2b9042c374",
      "provenance": [],
      "include_colab_link": true
    }
  },
  "nbformat_minor": 0,
  "nbformat": 4,
  "cells": [
    {
      "cell_type": "markdown",
      "metadata": {
        "id": "view-in-github",
        "colab_type": "text"
      },
      "source": [
        "<a href=\"https://colab.research.google.com/github/Deeksha040/-Gen-AI-Intensive-Course-with-Google-/blob/main/Building%20an%20agent%20with%20LangGraph.ipynb\" target=\"_parent\"><img src=\"https://colab.research.google.com/assets/colab-badge.svg\" alt=\"Open In Colab\"/></a>"
      ]
    },
    {
      "cell_type": "code",
      "source": [
        "# This Python 3 environment comes with many helpful analytics libraries installed\n",
        "# It is defined by the kaggle/python Docker image: https://github.com/kaggle/docker-python\n",
        "# For example, here's several helpful packages to load\n",
        "\n",
        "import numpy as np # linear algebra\n",
        "import pandas as pd # data processing, CSV file I/O (e.g. pd.read_csv)\n",
        "\n",
        "# Input data files are available in the read-only \"../input/\" directory\n",
        "# For example, running this (by clicking run or pressing Shift+Enter) will list all files under the input directory\n",
        "\n",
        "import os\n",
        "for dirname, _, filenames in os.walk('/kaggle/input'):\n",
        "    for filename in filenames:\n",
        "        print(os.path.join(dirname, filename))\n",
        "\n",
        "# You can write up to 20GB to the current directory (/kaggle/working/) that gets preserved as output when you create a version using \"Save & Run All\"\n",
        "# You can also write temporary files to /kaggle/temp/, but they won't be saved outside of the current session"
      ],
      "metadata": {
        "_uuid": "8f2839f25d086af736a60e9eeb907d3b93b6e0e5",
        "_cell_guid": "b1076dfc-b9ad-4769-8c92-a6c4dae69d19",
        "trusted": true,
        "id": "vjjISChwkhqh"
      },
      "outputs": [],
      "execution_count": null
    },
    {
      "cell_type": "code",
      "source": [
        "# Remove conflicting packages from the Kaggle base environment.\n",
        "!pip uninstall -qqy kfp jupyterlab libpysal thinc spacy fastai ydata-profiling google-cloud-bigquery google-generativeai\n",
        "# Install langgraph and the packages used in this lab.\n",
        "!pip install -qU 'langgraph==0.3.21' 'langchain-google-genai==2.1.2' 'langgraph-prebuilt==0.1.7'"
      ],
      "metadata": {
        "trusted": true,
        "execution": {
          "iopub.status.busy": "2025-04-03T12:51:20.077346Z",
          "iopub.execute_input": "2025-04-03T12:51:20.07773Z",
          "iopub.status.idle": "2025-04-03T12:51:57.414262Z",
          "shell.execute_reply.started": "2025-04-03T12:51:20.077689Z",
          "shell.execute_reply": "2025-04-03T12:51:57.412361Z"
        },
        "id": "lcU4sP2Mkhqq",
        "outputId": "7cecfd01-8228-4322-b224-cf44b1f1be1c"
      },
      "outputs": [
        {
          "name": "stdout",
          "text": "\u001b[33mWARNING: Skipping kfp as it is not installed.\u001b[0m\u001b[33m\n\u001b[2K     \u001b[90m━━━━━━━━━━━━━━━━━━━━━━━━━━━━━━━━━━━━━━━━\u001b[0m \u001b[32m43.5/43.5 kB\u001b[0m \u001b[31m1.8 MB/s\u001b[0m eta \u001b[36m0:00:00\u001b[0m\n\u001b[2K   \u001b[90m━━━━━━━━━━━━━━━━━━━━━━━━━━━━━━━━━━━━━━━━\u001b[0m \u001b[32m138.0/138.0 kB\u001b[0m \u001b[31m6.4 MB/s\u001b[0m eta \u001b[36m0:00:00\u001b[0m\n\u001b[2K   \u001b[90m━━━━━━━━━━━━━━━━━━━━━━━━━━━━━━━━━━━━━━━━\u001b[0m \u001b[32m42.0/42.0 kB\u001b[0m \u001b[31m1.6 MB/s\u001b[0m eta \u001b[36m0:00:00\u001b[0m\n\u001b[2K   \u001b[90m━━━━━━━━━━━━━━━━━━━━━━━━━━━━━━━━━━━━━━━━\u001b[0m \u001b[32m1.4/1.4 MB\u001b[0m \u001b[31m36.5 MB/s\u001b[0m eta \u001b[36m0:00:00\u001b[0m:00:01\u001b[0m\n\u001b[2K   \u001b[90m━━━━━━━━━━━━━━━━━━━━━━━━━━━━━━━━━━━━━━━━\u001b[0m \u001b[32m423.4/423.4 kB\u001b[0m \u001b[31m19.1 MB/s\u001b[0m eta \u001b[36m0:00:00\u001b[0m\n\u001b[2K   \u001b[90m━━━━━━━━━━━━━━━━━━━━━━━━━━━━━━━━━━━━━━━━\u001b[0m \u001b[32m42.0/42.0 kB\u001b[0m \u001b[31m1.8 MB/s\u001b[0m eta \u001b[36m0:00:00\u001b[0m\n\u001b[2K   \u001b[90m━━━━━━━━━━━━━━━━━━━━━━━━━━━━━━━━━━━━━━━━\u001b[0m \u001b[32m47.2/47.2 kB\u001b[0m \u001b[31m2.0 MB/s\u001b[0m eta \u001b[36m0:00:00\u001b[0m\n\u001b[2K   \u001b[90m━━━━━━━━━━━━━━━━━━━━━━━━━━━━━━━━━━━━━━━━\u001b[0m \u001b[32m223.6/223.6 kB\u001b[0m \u001b[31m9.2 MB/s\u001b[0m eta \u001b[36m0:00:00\u001b[0m\n\u001b[?25h\u001b[31mERROR: pip's dependency resolver does not currently take into account all the packages that are installed. This behaviour is the source of the following dependency conflicts.\nlangchain 0.3.12 requires async-timeout<5.0.0,>=4.0.0; python_version < \"3.11\", but you have async-timeout 5.0.1 which is incompatible.\u001b[0m\u001b[31m\n\u001b[0m",
          "output_type": "stream"
        }
      ],
      "execution_count": null
    },
    {
      "cell_type": "code",
      "source": [
        "import os\n",
        "from kaggle_secrets import UserSecretsClient\n",
        "\n",
        "GOOGLE_API_KEY = UserSecretsClient().get_secret(\"GOOGLE_API_KEY\")\n",
        "os.environ[\"GOOGLE_API_KEY\"] = GOOGLE_API_KEY"
      ],
      "metadata": {
        "trusted": true,
        "execution": {
          "iopub.status.busy": "2025-04-03T13:19:25.129154Z",
          "iopub.execute_input": "2025-04-03T13:19:25.129569Z",
          "iopub.status.idle": "2025-04-03T13:19:25.288241Z",
          "shell.execute_reply.started": "2025-04-03T13:19:25.129541Z",
          "shell.execute_reply": "2025-04-03T13:19:25.287143Z"
        },
        "id": "xzsqfyvJkhqs"
      },
      "outputs": [],
      "execution_count": null
    },
    {
      "cell_type": "markdown",
      "source": [
        "from kaggle_secrets import UserSecretsClient\n",
        "secret_label = \"your-secret-label\"\n",
        "secret_value = UserSecretsClient().get_secret(secret_label)"
      ],
      "metadata": {
        "execution": {
          "iopub.status.busy": "2025-04-03T12:59:14.260124Z",
          "iopub.execute_input": "2025-04-03T12:59:14.260573Z",
          "iopub.status.idle": "2025-04-03T12:59:14.419341Z",
          "shell.execute_reply.started": "2025-04-03T12:59:14.26054Z",
          "shell.execute_reply": "2025-04-03T12:59:14.417924Z"
        },
        "id": "EpFO6aRkkhqt"
      }
    },
    {
      "cell_type": "code",
      "source": [
        "from kaggle_secrets import UserSecretsClient\n",
        "user_secrets = UserSecretsClient()\n",
        "secret_value_0 = user_secrets.get_secret(\"GOOGLE_API_KEY\")\n"
      ],
      "metadata": {
        "trusted": true,
        "execution": {
          "iopub.status.busy": "2025-04-03T13:19:29.607654Z",
          "iopub.execute_input": "2025-04-03T13:19:29.608137Z",
          "iopub.status.idle": "2025-04-03T13:19:29.768907Z",
          "shell.execute_reply.started": "2025-04-03T13:19:29.608101Z",
          "shell.execute_reply": "2025-04-03T13:19:29.76768Z"
        },
        "id": "4KXo1UZJkhqw"
      },
      "outputs": [],
      "execution_count": null
    },
    {
      "cell_type": "code",
      "source": [
        "from typing import Annotated\n",
        "from typing_extensions import TypedDict\n",
        "\n",
        "from langgraph.graph.message import add_messages\n",
        "\n",
        "\n",
        "class OrderState(TypedDict):\n",
        "    \"\"\"State representing the customer's order conversation.\"\"\"\n",
        "\n",
        "    # The chat conversation. This preserves the conversation history\n",
        "    # between nodes. The `add_messages` annotation indicates to LangGraph\n",
        "    # that state is updated by appending returned messages, not replacing\n",
        "    # them.\n",
        "    messages: Annotated[list, add_messages]\n",
        "\n",
        "    # The customer's in-progress order.\n",
        "    order: list[str]\n",
        "\n",
        "    # Flag indicating that the order is placed and completed.\n",
        "    finished: bool\n",
        "\n",
        "\n",
        "# The system instruction defines how the chatbot is expected to behave and includes\n",
        "# rules for when to call different functions, as well as rules for the conversation, such\n",
        "# as tone and what is permitted for discussion.\n",
        "BARISTABOT_SYSINT = (\n",
        "    \"system\",  # 'system' indicates the message is a system instruction.\n",
        "    \"You are a BaristaBot, an interactive cafe ordering system. A human will talk to you about the \"\n",
        "    \"available products you have and you will answer any questions about menu items (and only about \"\n",
        "    \"menu items - no off-topic discussion, but you can chat about the products and their history). \"\n",
        "    \"The customer will place an order for 1 or more items from the menu, which you will structure \"\n",
        "    \"and send to the ordering system after confirming the order with the human. \"\n",
        "    \"\\n\\n\"\n",
        "    \"Add items to the customer's order with add_to_order, and reset the order with clear_order. \"\n",
        "    \"To see the contents of the order so far, call get_order (this is shown to you, not the user) \"\n",
        "    \"Always confirm_order with the user (double-check) before calling place_order. Calling confirm_order will \"\n",
        "    \"display the order items to the user and returns their response to seeing the list. Their response may contain modifications. \"\n",
        "    \"Always verify and respond with drink and modifier names from the MENU before adding them to the order. \"\n",
        "    \"If you are unsure a drink or modifier matches those on the MENU, ask a question to clarify or redirect. \"\n",
        "    \"You only have the modifiers listed on the menu. \"\n",
        "    \"Once the customer has finished ordering items, Call confirm_order to ensure it is correct then make \"\n",
        "    \"any necessary updates and then call place_order. Once place_order has returned, thank the user and \"\n",
        "    \"say goodbye!\"\n",
        "    \"\\n\\n\"\n",
        "    \"If any of the tools are unavailable, you can break the fourth wall and tell the user that \"\n",
        "    \"they have not implemented them yet and should keep reading to do so.\",\n",
        ")\n",
        "\n",
        "# This is the message with which the system opens the conversation.\n",
        "WELCOME_MSG = \"Welcome to the BaristaBot cafe. Type `q` to quit. How may I serve you today?\""
      ],
      "metadata": {
        "trusted": true,
        "execution": {
          "iopub.status.busy": "2025-04-03T13:19:34.929405Z",
          "iopub.execute_input": "2025-04-03T13:19:34.929819Z",
          "iopub.status.idle": "2025-04-03T13:19:34.936868Z",
          "shell.execute_reply.started": "2025-04-03T13:19:34.929791Z",
          "shell.execute_reply": "2025-04-03T13:19:34.935251Z"
        },
        "id": "cS76WOrUkhqy"
      },
      "outputs": [],
      "execution_count": null
    },
    {
      "cell_type": "markdown",
      "source": [
        "**Define a single turn chatboot**¶\n",
        "\n",
        "*To illustrate how LangGraph works, the following program defines a chatbot node that will execute a single turn in a chat conversation using the instructions supplied.Each node in the graph operates on the state object. The state (a Python dictionary) is passed as a parameter into the node (a function) and the new state is returned. This can be restated as pseudo-code, where state = node(state).*\n",
        "\n",
        "\n",
        "* Note: For the chatbot node, the state is updated by adding the new conversation message. The add_messages annotation on OrderState.messages indicates that messages are appended when returned from a node. Typically state is updated by replacement, but this annotation causes messages to behave differently"
      ],
      "metadata": {
        "id": "_yVDVlrJkhqz"
      }
    },
    {
      "cell_type": "code",
      "source": [
        "from langgraph.graph import StateGraph, START, END\n",
        "from langchain_google_genai import ChatGoogleGenerativeAI\n",
        "\n",
        "# Try using different models. The Gemini 2.0 flash model is highly\n",
        "# capable, great with tools, and has a generous free tier. If you\n",
        "# try the older 1.5 models, note that the `pro` models are better at\n",
        "# complex multi-tool cases like this, but the `flash` models are\n",
        "# faster and have more free quota.\n",
        "# Check out the features and quota differences here:\n",
        "#  - https://ai.google.dev/gemini-api/docs/models/gemini\n",
        "llm = ChatGoogleGenerativeAI(model=\"gemini-2.0-flash\")\n",
        "\n",
        "\n",
        "def chatbot(state: OrderState) -> OrderState:\n",
        "    \"\"\"The chatbot itself. A simple wrapper around the model's own chat interface.\"\"\"\n",
        "    message_history = [BARISTABOT_SYSINT] + state[\"messages\"]\n",
        "    return {\"messages\": [llm.invoke(message_history)]}\n",
        "\n",
        "\n",
        "# Set up the initial graph based on our state definition.\n",
        "graph_builder = StateGraph(OrderState)\n",
        "\n",
        "# Add the chatbot function to the app graph as a node called \"chatbot\".\n",
        "graph_builder.add_node(\"chatbot\", chatbot)\n",
        "\n",
        "# Define the chatbot node as the app entrypoint.\n",
        "graph_builder.add_edge(START, \"chatbot\")\n",
        "\n",
        "chat_graph = graph_builder.compile()"
      ],
      "metadata": {
        "trusted": true,
        "execution": {
          "iopub.status.busy": "2025-04-03T13:19:40.963925Z",
          "iopub.execute_input": "2025-04-03T13:19:40.964344Z",
          "iopub.status.idle": "2025-04-03T13:19:40.979623Z",
          "shell.execute_reply.started": "2025-04-03T13:19:40.964315Z",
          "shell.execute_reply": "2025-04-03T13:19:40.978663Z"
        },
        "id": "uTrRvgbxkhq0"
      },
      "outputs": [],
      "execution_count": null
    },
    {
      "cell_type": "code",
      "source": [
        "from IPython.display import Image, display\n",
        "\n",
        "Image(chat_graph.get_graph().draw_mermaid_png())"
      ],
      "metadata": {
        "trusted": true,
        "execution": {
          "iopub.status.busy": "2025-04-03T13:02:29.445738Z",
          "iopub.execute_input": "2025-04-03T13:02:29.44617Z",
          "iopub.status.idle": "2025-04-03T13:02:29.536555Z",
          "shell.execute_reply.started": "2025-04-03T13:02:29.446135Z",
          "shell.execute_reply": "2025-04-03T13:02:29.535398Z"
        },
        "id": "pH5zImw7khq2",
        "outputId": "440d50ce-1e30-46dc-a616-72fc3cc70ef8"
      },
      "outputs": [
        {
          "execution_count": 8,
          "output_type": "execute_result",
          "data": {
            "image/png": "[encoded data removed]",
            "text/plain": "<IPython.core.display.Image object>"
          },
          "metadata": {}
        }
      ],
      "execution_count": null
    },
    {
      "cell_type": "code",
      "source": [
        "from pprint import pprint\n",
        "\n",
        "user_msg = \"Hello, what can you do?\"\n",
        "state = chat_graph.invoke({\"messages\": [user_msg]})\n",
        "\n",
        "# The state object contains lots of information. Uncomment the pprint lines to see it all.\n",
        "pprint(state)\n",
        "\n"
      ],
      "metadata": {
        "trusted": true,
        "execution": {
          "iopub.status.busy": "2025-04-03T13:19:45.037568Z",
          "iopub.execute_input": "2025-04-03T13:19:45.037962Z",
          "iopub.status.idle": "2025-04-03T13:19:45.766503Z",
          "shell.execute_reply.started": "2025-04-03T13:19:45.037932Z",
          "shell.execute_reply": "2025-04-03T13:19:45.765332Z"
        },
        "id": "GuKYCbrYkhq4",
        "outputId": "9cdbf65c-1517-4fa9-e925-ce4e71d88068"
      },
      "outputs": [
        {
          "name": "stdout",
          "text": "{'messages': [HumanMessage(content='Hello, what can you do?', additional_kwargs={}, response_metadata={}, id='85ac1c52-1f3f-4079-8f81-628335078a5b'),\n              AIMessage(content=\"Hi there! I'm BaristaBot, ready to take your coffee order. I can tell you about our menu items, answer questions, and place your order for you. What are you in the mood for today?\", additional_kwargs={}, response_metadata={'prompt_feedback': {'block_reason': 0, 'safety_ratings': []}, 'finish_reason': 'STOP', 'model_name': 'gemini-2.0-flash', 'safety_ratings': []}, id='run-3a8c6c1b-8899-41ab-a999-b93639be781d-0', usage_metadata={'input_tokens': 323, 'output_tokens': 46, 'total_tokens': 369, 'input_token_details': {'cache_read': 0}})]}\n",
          "output_type": "stream"
        }
      ],
      "execution_count": null
    },
    {
      "cell_type": "code",
      "source": [
        "# The state object contains lots of information. Uncomment the pprint lines to see it all.\n",
        "# pprint(state)\n",
        "\n",
        "# Note that the final state now has 2 messages. Our HumanMessage, and an additional AIMessage.\n",
        "for msg in state[\"messages\"]:\n",
        "    print(f\"{type(msg).__name__}: {msg.content}\")"
      ],
      "metadata": {
        "trusted": true,
        "execution": {
          "iopub.status.busy": "2025-04-03T13:19:59.448938Z",
          "iopub.execute_input": "2025-04-03T13:19:59.449425Z",
          "iopub.status.idle": "2025-04-03T13:19:59.456195Z",
          "shell.execute_reply.started": "2025-04-03T13:19:59.449388Z",
          "shell.execute_reply": "2025-04-03T13:19:59.454834Z"
        },
        "id": "qeVsHagekhq5",
        "outputId": "90ab98b5-08ba-4f8d-c189-7bc6a89e14d2"
      },
      "outputs": [
        {
          "name": "stdout",
          "text": "HumanMessage: Hello, what can you do?\nAIMessage: Hi there! I'm BaristaBot, ready to take your coffee order. I can tell you about our menu items, answer questions, and place your order for you. What are you in the mood for today?\n",
          "output_type": "stream"
        }
      ],
      "execution_count": null
    },
    {
      "cell_type": "code",
      "source": [
        "user_msg = \"Oh great, what kinds of latte can you make?\"\n",
        "\n",
        "state[\"messages\"].append(user_msg)\n",
        "state = chat_graph.invoke(state)\n",
        "\n",
        "pprint(state)\n",
        "for msg in state[\"messages\"]:\n",
        "    print(f\"{type(msg).__name__}: {msg.content}\")"
      ],
      "metadata": {
        "trusted": true,
        "execution": {
          "iopub.status.busy": "2025-04-03T13:21:05.855473Z",
          "iopub.execute_input": "2025-04-03T13:21:05.855866Z",
          "iopub.status.idle": "2025-04-03T13:21:06.836465Z",
          "shell.execute_reply.started": "2025-04-03T13:21:05.85584Z",
          "shell.execute_reply": "2025-04-03T13:21:06.834673Z"
        },
        "id": "S5CFeW7ukhq6",
        "outputId": "5567ddee-cfc9-4761-f923-67aebd902fc7"
      },
      "outputs": [
        {
          "name": "stdout",
          "text": "{'messages': [HumanMessage(content='Hello, what can you do?', additional_kwargs={}, response_metadata={}, id='85ac1c52-1f3f-4079-8f81-628335078a5b'),\n              AIMessage(content=\"Hi there! I'm BaristaBot, ready to take your coffee order. I can tell you about our menu items, answer questions, and place your order for you. What are you in the mood for today?\", additional_kwargs={}, response_metadata={'prompt_feedback': {'block_reason': 0, 'safety_ratings': []}, 'finish_reason': 'STOP', 'model_name': 'gemini-2.0-flash', 'safety_ratings': []}, id='run-3a8c6c1b-8899-41ab-a999-b93639be781d-0', usage_metadata={'input_tokens': 323, 'output_tokens': 46, 'total_tokens': 369, 'input_token_details': {'cache_read': 0}}),\n              HumanMessage(content='Oh great, what kinds of latte can you make?', additional_kwargs={}, response_metadata={}, id='a47e7cae-5721-4e02-8e65-7ce9d097d476'),\n              AIMessage(content='We have a few delicious lattes on the menu:\\n\\n*   **Latte:** Our classic latte.\\n*   **Mocha Latte:** A chocolatey version of our latte.\\n*   **Caramel Latte:** A sweet and buttery latte.\\n*   **Vanilla Latte:** A latte with a hint of vanilla.\\n\\nWould you like to know more about any of these?', additional_kwargs={}, response_metadata={'prompt_feedback': {'block_reason': 0, 'safety_ratings': []}, 'finish_reason': 'STOP', 'model_name': 'gemini-2.0-flash', 'safety_ratings': []}, id='run-5829a12a-0d9d-43cc-965e-25bc2b5e0590-0', usage_metadata={'input_tokens': 379, 'output_tokens': 80, 'total_tokens': 459, 'input_token_details': {'cache_read': 0}})]}\nHumanMessage: Hello, what can you do?\nAIMessage: Hi there! I'm BaristaBot, ready to take your coffee order. I can tell you about our menu items, answer questions, and place your order for you. What are you in the mood for today?\nHumanMessage: Oh great, what kinds of latte can you make?\nAIMessage: We have a few delicious lattes on the menu:\n\n*   **Latte:** Our classic latte.\n*   **Mocha Latte:** A chocolatey version of our latte.\n*   **Caramel Latte:** A sweet and buttery latte.\n*   **Vanilla Latte:** A latte with a hint of vanilla.\n\nWould you like to know more about any of these?\n",
          "output_type": "stream"
        }
      ],
      "execution_count": null
    },
    {
      "cell_type": "markdown",
      "source": [
        "****Add a human node****\n",
        "\n",
        "Instead of repeatedly running the \"graph\" in a Python loop, you can use LangGraph to loop between nodes.\n",
        "\n",
        "The human node will display the last message from the LLM to the user, and then prompt them for their next input. Here this is done using standard Python print and input functions, but for a real cafe situation, you could render the chat to a display or audio, and accept input from a mic or on-screen keyboard.\n",
        "\n",
        "The chatbot node function has also been updated to include the welcome message to start the conversation."
      ],
      "metadata": {
        "id": "V2GyC25Bkhq7"
      }
    },
    {
      "cell_type": "code",
      "source": [
        "from langchain_core.messages.ai import AIMessage\n",
        "\n",
        "\n",
        "def human_node(state: OrderState) -> OrderState:\n",
        "    \"\"\"Display the last model message to the user, and receive the user's input.\"\"\"\n",
        "    last_msg = state[\"messages\"][-1]\n",
        "    print(\"Model:\", last_msg.content)\n",
        "\n",
        "    user_input = input(\"User: \")\n",
        "\n",
        "    # If it looks like the user is trying to quit, flag the conversation\n",
        "    # as over.\n",
        "    if user_input in {\"q\", \"quit\", \"exit\", \"goodbye\"}:\n",
        "        state[\"finished\"] = True\n",
        "\n",
        "    return state | {\"messages\": [(\"user\", user_input)]}\n",
        "\n",
        "\n",
        "def chatbot_with_welcome_msg(state: OrderState) -> OrderState:\n",
        "    \"\"\"The chatbot itself. A wrapper around the model's own chat interface.\"\"\"\n",
        "\n",
        "    if state[\"messages\"]:\n",
        "        # If there are messages, continue the conversation with the Gemini model.\n",
        "        new_output = llm.invoke([BARISTABOT_SYSINT] + state[\"messages\"])\n",
        "    else:\n",
        "        # If there are no messages, start with the welcome message.\n",
        "        new_output = AIMessage(content=WELCOME_MSG)\n",
        "\n",
        "    return state | {\"messages\": [new_output]}\n",
        "\n",
        "\n",
        "# Start building a new graph.\n",
        "graph_builder = StateGraph(OrderState)\n",
        "\n",
        "# Add the chatbot and human nodes to the app graph.\n",
        "graph_builder.add_node(\"chatbot\", chatbot_with_welcome_msg)\n",
        "graph_builder.add_node(\"human\", human_node)\n",
        "\n",
        "# Start with the chatbot again.\n",
        "graph_builder.add_edge(START, \"chatbot\")\n",
        "\n",
        "# The chatbot will always go to the human next.\n",
        "graph_builder.add_edge(\"chatbot\", \"human\");"
      ],
      "metadata": {
        "trusted": true,
        "execution": {
          "iopub.status.busy": "2025-04-03T13:33:02.230268Z",
          "iopub.execute_input": "2025-04-03T13:33:02.230595Z",
          "iopub.status.idle": "2025-04-03T13:33:02.240467Z",
          "shell.execute_reply.started": "2025-04-03T13:33:02.230572Z",
          "shell.execute_reply": "2025-04-03T13:33:02.239335Z"
        },
        "id": "n7b5_Nknkhq8"
      },
      "outputs": [],
      "execution_count": null
    },
    {
      "cell_type": "code",
      "source": [
        "from typing import Literal\n",
        "\n",
        "\n",
        "def maybe_exit_human_node(state: OrderState) -> Literal[\"chatbot\", \"__end__\"]:\n",
        "    \"\"\"Route to the chatbot, unless it looks like the user is exiting.\"\"\"\n",
        "    if state.get(\"finished\", False):\n",
        "        return END\n",
        "    else:\n",
        "        return \"chatbot\"\n",
        "\n",
        "\n",
        "graph_builder.add_conditional_edges(\"human\", maybe_exit_human_node)\n",
        "\n",
        "chat_with_human_graph = graph_builder.compile()\n",
        "\n",
        "Image(chat_with_human_graph.get_graph().draw_mermaid_png())"
      ],
      "metadata": {
        "trusted": true,
        "execution": {
          "iopub.status.busy": "2025-04-03T13:34:22.608298Z",
          "iopub.execute_input": "2025-04-03T13:34:22.608714Z",
          "iopub.status.idle": "2025-04-03T13:34:22.702007Z",
          "shell.execute_reply.started": "2025-04-03T13:34:22.608684Z",
          "shell.execute_reply": "2025-04-03T13:34:22.700621Z"
        },
        "id": "snXUyFs-khq8",
        "outputId": "5848a7fc-81ce-4fd6-a988-5e8b7430f332"
      },
      "outputs": [
        {
          "execution_count": 21,
          "output_type": "execute_result",
          "data": {
            "image/png": "[encoded data removed]",
            "text/plain": "<IPython.core.display.Image object>"
          },
          "metadata": {}
        }
      ],
      "execution_count": null
    },
    {
      "cell_type": "code",
      "source": [
        "# The default recursion limit for traversing nodes is 25 - setting it higher means\n",
        "# you can try a more complex order with multiple steps and round-trips (and you\n",
        "# can chat for longer!)\n",
        "config = {\"recursion_limit\": 100}\n",
        "\n",
        "# Remember that this will loop forever, unless you input `q`, `quit` or one of the\n",
        "# other exit terms defined in `human_node`.\n",
        "# Uncomment this line to execute the graph:\n",
        "# state = chat_with_human_graph.invoke({\"messages\": []}, config)\n",
        "\n",
        "# Things to try:\n",
        "#  - Just chat! There's no ordering or menu yet.\n",
        "#  - 'q' to exit.\n",
        "\n",
        "# pprint(state)\n"
      ],
      "metadata": {
        "trusted": true,
        "execution": {
          "iopub.status.busy": "2025-04-03T13:42:25.530072Z",
          "iopub.execute_input": "2025-04-03T13:42:25.530506Z",
          "iopub.status.idle": "2025-04-03T13:42:25.535319Z",
          "shell.execute_reply.started": "2025-04-03T13:42:25.530473Z",
          "shell.execute_reply": "2025-04-03T13:42:25.534162Z"
        },
        "id": "6FZozV58khq9"
      },
      "outputs": [],
      "execution_count": null
    },
    {
      "cell_type": "markdown",
      "source": [
        "**Add a \"live\" menu**\n",
        "\n",
        "BaristaBot currently has no awareness of the available items at the cafe, so it will hallucinate a menu. One option would be to hard-code a menu into the system prompt. This would work well, but to simulate a system where the menu is more dynamic and could respond to fluctuating stock levels, you will put the menu into a custom tool.\n",
        "\n",
        "There are two types of tools that this system will use. Stateless tools that can be run automatically, and stateful tools that modify the order. The \"get current menu\" tool is stateless, in that it does not make any changes to the live order, so it can be called automatically.\n",
        "\n",
        "In a LangGraph app, you can annotate Python functions as tools by applying the @tools annotation"
      ],
      "metadata": {
        "id": "b7nBacHKkhq9"
      }
    },
    {
      "cell_type": "code",
      "source": [
        "from langchain_core.tools import tool\n",
        "\n",
        "\n",
        "@tool\n",
        "def get_menu() -> str:\n",
        "    \"\"\"Provide the latest up-to-date menu.\"\"\"\n",
        "    # Note that this is just hard-coded text, but you could connect this to a live stock\n",
        "    # database, or you could use Gemini's multi-modal capabilities and take live photos of\n",
        "    # your cafe's chalk menu or the products on the counter and assmble them into an input.\n",
        "\n",
        "    return \"\"\"\n",
        "    MENU:\n",
        "    Coffee Drinks:\n",
        "    Espresso\n",
        "    Americano\n",
        "    Cold Brew\n",
        "\n",
        "    Coffee Drinks with Milk:\n",
        "    Latte\n",
        "    Cappuccino\n",
        "    Cortado\n",
        "    Macchiato\n",
        "    Mocha\n",
        "    Flat White\n",
        "\n",
        "    Tea Drinks:\n",
        "    English Breakfast Tea\n",
        "    Green Tea\n",
        "    Earl Grey\n",
        "\n",
        "    Tea Drinks with Milk:\n",
        "    Chai Latte\n",
        "    Matcha Latte\n",
        "    London Fog\n",
        "\n",
        "    Other Drinks:\n",
        "    Steamer\n",
        "    Hot Chocolate\n",
        "\n",
        "    Modifiers:\n",
        "    Milk options: Whole, 2%, Oat, Almond, 2% Lactose Free; Default option: whole\n",
        "    Espresso shots: Single, Double, Triple, Quadruple; default: Double\n",
        "    Caffeine: Decaf, Regular; default: Regular\n",
        "    Hot-Iced: Hot, Iced; Default: Hot\n",
        "    Sweeteners (option to add one or more): vanilla sweetener, hazelnut sweetener, caramel sauce, chocolate sauce, sugar free vanilla sweetener\n",
        "    Special requests: any reasonable modification that does not involve items not on the menu, for example: 'extra hot', 'one pump', 'half caff', 'extra foam', etc.\n",
        "\n",
        "    \"dirty\" means add a shot of espresso to a drink that doesn't usually have it, like \"Dirty Chai Latte\".\n",
        "    \"Regular milk\" is the same as 'whole milk'.\n",
        "    \"Sweetened\" means add some regular sugar, not a sweetener.\n",
        "\n",
        "    Soy milk has run out of stock today, so soy is not available.\n",
        "  \"\"\""
      ],
      "metadata": {
        "trusted": true,
        "execution": {
          "iopub.status.busy": "2025-04-03T13:43:41.833728Z",
          "iopub.execute_input": "2025-04-03T13:43:41.834179Z",
          "iopub.status.idle": "2025-04-03T13:43:41.848993Z",
          "shell.execute_reply.started": "2025-04-03T13:43:41.834143Z",
          "shell.execute_reply": "2025-04-03T13:43:41.847729Z"
        },
        "id": "DPOo5SOGkhq-"
      },
      "outputs": [],
      "execution_count": null
    },
    {
      "cell_type": "code",
      "source": [
        "from langgraph.prebuilt import ToolNode\n",
        "\n",
        "\n",
        "# Define the tools and create a \"tools\" node.\n",
        "tools = [get_menu]\n",
        "tool_node = ToolNode(tools)\n",
        "\n",
        "# Attach the tools to the model so that it knows what it can call.\n",
        "llm_with_tools = llm.bind_tools(tools)\n",
        "\n",
        "\n",
        "def maybe_route_to_tools(state: OrderState) -> Literal[\"tools\", \"human\"]:\n",
        "    \"\"\"Route between human or tool nodes, depending if a tool call is made.\"\"\"\n",
        "    if not (msgs := state.get(\"messages\", [])):\n",
        "        raise ValueError(f\"No messages found when parsing state: {state}\")\n",
        "\n",
        "    # Only route based on the last message.\n",
        "    msg = msgs[-1]\n",
        "\n",
        "    # When the chatbot returns tool_calls, route to the \"tools\" node.\n",
        "    if hasattr(msg, \"tool_calls\") and len(msg.tool_calls) > 0:\n",
        "        return \"tools\"\n",
        "    else:\n",
        "        return \"human\"\n",
        "\n",
        "\n",
        "def chatbot_with_tools(state: OrderState) -> OrderState:\n",
        "    \"\"\"The chatbot with tools. A simple wrapper around the model's own chat interface.\"\"\"\n",
        "    defaults = {\"order\": [], \"finished\": False}\n",
        "\n",
        "    if state[\"messages\"]:\n",
        "        new_output = llm_with_tools.invoke([BARISTABOT_SYSINT] + state[\"messages\"])\n",
        "    else:\n",
        "        new_output = AIMessage(content=WELCOME_MSG)\n",
        "\n",
        "    # Set up some defaults if not already set, then pass through the provided state,\n",
        "    # overriding only the \"messages\" field.\n",
        "    return defaults | state | {\"messages\": [new_output]}\n",
        "\n",
        "\n",
        "graph_builder = StateGraph(OrderState)\n",
        "\n",
        "# Add the nodes, including the new tool_node.\n",
        "graph_builder.add_node(\"chatbot\", chatbot_with_tools)\n",
        "graph_builder.add_node(\"human\", human_node)\n",
        "graph_builder.add_node(\"tools\", tool_node)\n",
        "\n",
        "# Chatbot may go to tools, or human.\n",
        "graph_builder.add_conditional_edges(\"chatbot\", maybe_route_to_tools)\n",
        "# Human may go back to chatbot, or exit.\n",
        "graph_builder.add_conditional_edges(\"human\", maybe_exit_human_node)\n",
        "\n",
        "# Tools always route back to chat afterwards.\n",
        "graph_builder.add_edge(\"tools\", \"chatbot\")\n",
        "\n",
        "graph_builder.add_edge(START, \"chatbot\")\n",
        "graph_with_menu = graph_builder.compile()\n",
        "\n",
        "Image(graph_with_menu.get_graph().draw_mermaid_png())"
      ],
      "metadata": {
        "trusted": true,
        "execution": {
          "iopub.status.busy": "2025-04-03T13:44:37.290984Z",
          "iopub.execute_input": "2025-04-03T13:44:37.291586Z",
          "iopub.status.idle": "2025-04-03T13:44:37.385483Z",
          "shell.execute_reply.started": "2025-04-03T13:44:37.291538Z",
          "shell.execute_reply": "2025-04-03T13:44:37.383887Z"
        },
        "id": "7nXJGdUtkhq-",
        "outputId": "6ad5e356-8570-4cce-8891-ea1b9e62e225"
      },
      "outputs": [
        {
          "execution_count": 24,
          "output_type": "execute_result",
          "data": {
            "image/png": "[encoded data removed]",
            "text/plain": "<IPython.core.display.Image object>"
          },
          "metadata": {}
        }
      ],
      "execution_count": null
    },
    {
      "cell_type": "code",
      "source": [
        "# Remember that you have not implemented ordering yet, so this will loop forever,\n",
        "# unless you input `q`, `quit` or one of the other exit terms defined in the\n",
        "# `human_node`.\n",
        "# Uncomment this line to execute the graph:\n",
        "# state = graph_with_menu.invoke({\"messages\": []}, config)\n",
        "\n",
        "# Things to try:\n",
        "# - I'd love an espresso drink, what have you got?\n",
        "# - What teas do you have?\n",
        "# - Can you do a long black? (this is on the menu as an \"Americano\" - see if it can\n",
        "#   figure it out)\n",
        "# - 'q' to exit.\n",
        "\n",
        "\n",
        "# pprint(state)"
      ],
      "metadata": {
        "trusted": true,
        "id": "3cMt4Q4jkhq_"
      },
      "outputs": [],
      "execution_count": null
    }
  ]
}