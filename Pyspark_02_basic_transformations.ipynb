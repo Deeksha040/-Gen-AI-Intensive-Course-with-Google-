{
  "nbformat": 4,
  "nbformat_minor": 0,
  "metadata": {
    "colab": {
      "provenance": [],
      "history_visible": true,
      "authorship_tag": "ABX9TyPxhohYp93ppe01KC7uR5Kq"
    },
    "kernelspec": {
      "name": "python3",
      "display_name": "Python 3"
    },
    "language_info": {
      "name": "python"
    }
  },
  "cells": [
    {
      "cell_type": "code",
      "execution_count": 1,
      "metadata": {
        "colab": {
          "base_uri": "https://localhost:8080/"
        },
        "id": "qRWoUDwKgoFA",
        "outputId": "56c7095c-57a0-4704-ce43-b9b96c375e8b"
      },
      "outputs": [
        {
          "output_type": "stream",
          "name": "stdout",
          "text": [
            "Requirement already satisfied: pyspark in /usr/local/lib/python3.11/dist-packages (3.5.1)\n",
            "Requirement already satisfied: py4j==0.10.9.7 in /usr/local/lib/python3.11/dist-packages (from pyspark) (0.10.9.7)\n"
          ]
        }
      ],
      "source": [
        "!pip install pyspark"
      ]
    },
    {
      "cell_type": "code",
      "source": [
        "from pyspark.sql import SparkSession\n",
        "\n",
        "spark =(\n",
        "    SparkSession\n",
        "    .builder\n",
        "    .appName(\"Create DF on fly\")\n",
        "    .master(\"local[*]\")\n",
        "    .getOrCreate())\n",
        "\n",
        "spark\n",
        "spark"
      ],
      "metadata": {
        "colab": {
          "base_uri": "https://localhost:8080/",
          "height": 219
        },
        "id": "ALvv_-zbg1Ah",
        "outputId": "473bce42-b436-4c20-fc4d-cfa5aeb69dc5"
      },
      "execution_count": 34,
      "outputs": [
        {
          "output_type": "execute_result",
          "data": {
            "text/plain": [
              "<pyspark.sql.session.SparkSession at 0x7e8254109590>"
            ],
            "text/html": [
              "\n",
              "            <div>\n",
              "                <p><b>SparkSession - in-memory</b></p>\n",
              "                \n",
              "        <div>\n",
              "            <p><b>SparkContext</b></p>\n",
              "\n",
              "            <p><a href=\"http://1a8e2c35eef9:4040\">Spark UI</a></p>\n",
              "\n",
              "            <dl>\n",
              "              <dt>Version</dt>\n",
              "                <dd><code>v3.5.1</code></dd>\n",
              "              <dt>Master</dt>\n",
              "                <dd><code>local[*]</code></dd>\n",
              "              <dt>AppName</dt>\n",
              "                <dd><code>Create DF on fly</code></dd>\n",
              "            </dl>\n",
              "        </div>\n",
              "        \n",
              "            </div>\n",
              "        "
            ]
          },
          "metadata": {},
          "execution_count": 34
        }
      ]
    },
    {
      "cell_type": "code",
      "source": [
        "# Emp Data & Schema\n",
        "\n",
        "emp_data = [\n",
        "    [\"001\",\"101\",\"John Doe\",\"30\",\"Male\",\"50000\",\"2015-01-01\"],\n",
        "    [\"002\",\"101\",\"Jane Smith\",\"25\",\"Female\",\"45000\",\"2016-02-15\"],\n",
        "    [\"003\",\"102\",\"Bob Brown\",\"35\",\"Male\",\"55000\",\"2014-05-01\"],\n",
        "    [\"004\",\"102\",\"Alice Lee\",\"28\",\"Female\",\"48000\",\"2017-09-30\"],\n",
        "    [\"005\",\"103\",\"Jack Chan\",\"40\",\"Male\",\"60000\",\"2013-04-01\"],\n",
        "    [\"006\",\"103\",\"Jill Wong\",\"32\",\"Female\",\"52000\",\"2018-07-01\"],\n",
        "    [\"007\",\"101\",\"James Johnson\",\"42\",\"Male\",\"70000\",\"2012-03-15\"],\n",
        "    [\"008\",\"102\",\"Kate Kim\",\"29\",\"Female\",\"51000\",\"2019-10-01\"],\n",
        "    [\"009\",\"103\",\"Tom Tan\",\"33\",\"Male\",\"58000\",\"2016-06-01\"],\n",
        "    [\"010\",\"104\",\"Lisa Lee\",\"27\",\"Female\",\"47000\",\"2018-08-01\"],\n",
        "    [\"011\",\"104\",\"David Park\",\"38\",\"Male\",\"65000\",\"2015-11-01\"],\n",
        "    [\"012\",\"105\",\"Susan Chen\",\"31\",\"Female\",\"54000\",\"2017-02-15\"],\n",
        "    [\"013\",\"106\",\"Brian Kim\",\"45\",\"Male\",\"75000\",\"2011-07-01\"],\n",
        "    [\"014\",\"107\",\"Emily Lee\",\"26\",\"Female\",\"46000\",\"2019-01-01\"],\n",
        "    [\"015\",\"106\",\"Michael Lee\",\"37\",\"Male\",\"63000\",\"2014-09-30\"],\n",
        "    [\"016\",\"107\",\"Kelly Zhang\",\"30\",\"Female\",\"49000\",\"2018-04-01\"],\n",
        "    [\"017\",\"105\",\"George Wang\",\"34\",\"Male\",\"57000\",\"2016-03-15\"],\n",
        "    [\"018\",\"104\",\"Nancy Liu\",\"29\",\"Female\",\"50000\",\"2017-06-01\"],\n",
        "    [\"019\",\"103\",\"Steven Chen\",\"36\",\"Male\",\"62000\",\"2015-08-01\"],\n",
        "    [\"020\",\"102\",\"Grace Kim\",\"32\",\"Female\",\"53000\",\"2018-11-01\"]\n",
        "]"
      ],
      "metadata": {
        "id": "W4kzzJ8FiBCI"
      },
      "execution_count": 7,
      "outputs": []
    },
    {
      "cell_type": "code",
      "source": [
        "emp_schema =\"employee_id string, department_id string, name string, age string, gender string, salary string, hire_date string\""
      ],
      "metadata": {
        "id": "tdAIj--87zv8"
      },
      "execution_count": 8,
      "outputs": []
    },
    {
      "cell_type": "code",
      "source": [
        "# Create emp DataFrame\n",
        "\n",
        "emp = spark.createDataFrame(data=emp_data, schema=emp_schema)"
      ],
      "metadata": {
        "id": "_LwSK0qH7-N0"
      },
      "execution_count": 35,
      "outputs": []
    },
    {
      "cell_type": "code",
      "source": [
        "# Check number of partitions\n",
        "\n",
        "emp.rdd.getNumPartitions()"
      ],
      "metadata": {
        "colab": {
          "base_uri": "https://localhost:8080/"
        },
        "id": "uLF8JrEkA3VZ",
        "outputId": "dc7b917f-b14d-478b-aae6-90df2b9d0f3d"
      },
      "execution_count": 36,
      "outputs": [
        {
          "output_type": "execute_result",
          "data": {
            "text/plain": [
              "2"
            ]
          },
          "metadata": {},
          "execution_count": 36
        }
      ]
    },
    {
      "cell_type": "code",
      "source": [
        "emp = spark.createDataFrame(data=emp_data,schema=emp_schema)\n",
        "emp.rdd.getNumPartitions()"
      ],
      "metadata": {
        "colab": {
          "base_uri": "https://localhost:8080/"
        },
        "id": "9lz09lcA_rvO",
        "outputId": "1abd24a9-7c0c-4a1f-cc1e-8efad153e4fc"
      },
      "execution_count": 7,
      "outputs": [
        {
          "output_type": "execute_result",
          "data": {
            "text/plain": [
              "2"
            ]
          },
          "metadata": {},
          "execution_count": 7
        }
      ]
    },
    {
      "cell_type": "code",
      "source": [
        "# Show data (ACTION)\n",
        "\n",
        "emp.show()"
      ],
      "metadata": {
        "colab": {
          "base_uri": "https://localhost:8080/"
        },
        "id": "pjBmETbvAZ16",
        "outputId": "aa55ee92-11cf-4b4e-c58a-02d6aa0f20ec"
      },
      "execution_count": 8,
      "outputs": [
        {
          "output_type": "stream",
          "name": "stdout",
          "text": [
            "+-----------+-------------+-------------+---+------+------+----------+\n",
            "|employee_id|department_id|         name|age|gender|salary| hire_date|\n",
            "+-----------+-------------+-------------+---+------+------+----------+\n",
            "|        001|          101|     John Doe| 30|  Male| 50000|2015-01-01|\n",
            "|        002|          101|   Jane Smith| 25|Female| 45000|2016-02-15|\n",
            "|        003|          102|    Bob Brown| 35|  Male| 55000|2014-05-01|\n",
            "|        004|          102|    Alice Lee| 28|Female| 48000|2017-09-30|\n",
            "|        005|          103|    Jack Chan| 40|  Male| 60000|2013-04-01|\n",
            "|        006|          103|    Jill Wong| 32|Female| 52000|2018-07-01|\n",
            "|        007|          101|James Johnson| 42|  Male| 70000|2012-03-15|\n",
            "|        008|          102|     Kate Kim| 29|Female| 51000|2019-10-01|\n",
            "|        009|          103|      Tom Tan| 33|  Male| 58000|2016-06-01|\n",
            "|        010|          104|     Lisa Lee| 27|Female| 47000|2018-08-01|\n",
            "|        011|          104|   David Park| 38|  Male| 65000|2015-11-01|\n",
            "|        012|          105|   Susan Chen| 31|Female| 54000|2017-02-15|\n",
            "|        013|          106|    Brian Kim| 45|  Male| 75000|2011-07-01|\n",
            "|        014|          107|    Emily Lee| 26|Female| 46000|2019-01-01|\n",
            "|        015|          106|  Michael Lee| 37|  Male| 63000|2014-09-30|\n",
            "|        016|          107|  Kelly Zhang| 30|Female| 49000|2018-04-01|\n",
            "|        017|          105|  George Wang| 34|  Male| 57000|2016-03-15|\n",
            "|        018|          104|    Nancy Liu| 29|Female| 50000|2017-06-01|\n",
            "|        019|          103|  Steven Chen| 36|  Male| 62000|2015-08-01|\n",
            "|        020|          102|    Grace Kim| 32|Female| 53000|2018-11-01|\n",
            "+-----------+-------------+-------------+---+------+------+----------+\n",
            "\n"
          ]
        }
      ]
    },
    {
      "cell_type": "code",
      "source": [
        "# Write our first Transformation (EMP salary > 50000)\n",
        "\n",
        "emp_final = emp.where(\"salary > 50000\")"
      ],
      "metadata": {
        "id": "JfWrBZmbErck"
      },
      "execution_count": 37,
      "outputs": []
    },
    {
      "cell_type": "code",
      "source": [
        "# Validate number of Partitions\n",
        "\n",
        "emp_final.rdd.getNumPartitions()"
      ],
      "metadata": {
        "colab": {
          "base_uri": "https://localhost:8080/"
        },
        "id": "xPoIHI5jEyxg",
        "outputId": "442e8b5f-ab02-4c49-b3a1-3c268c5ed4a3"
      },
      "execution_count": 38,
      "outputs": [
        {
          "output_type": "execute_result",
          "data": {
            "text/plain": [
              "2"
            ]
          },
          "metadata": {},
          "execution_count": 38
        }
      ]
    },
    {
      "cell_type": "code",
      "source": [
        "# Write data as CSV output (ACTION)\n",
        "\n",
        "emp_final.write.format(\"csv\").save(\"data/output/20/emp.csv\")"
      ],
      "metadata": {
        "id": "u0o8MlluE4hV"
      },
      "execution_count": 55,
      "outputs": []
    },
    {
      "cell_type": "code",
      "source": [
        "emp.schema"
      ],
      "metadata": {
        "colab": {
          "base_uri": "https://localhost:8080/"
        },
        "id": "tBONt-0cOzWl",
        "outputId": "6b2c2d8f-56dd-4979-ec69-8a2db2087a64"
      },
      "execution_count": 10,
      "outputs": [
        {
          "output_type": "execute_result",
          "data": {
            "text/plain": [
              "StructType([StructField('employee_id', StringType(), True), StructField('department_id', StringType(), True), StructField('name', StringType(), True), StructField('age', StringType(), True), StructField('gender', StringType(), True), StructField('salary', StringType(), True), StructField('hire_date', StringType(), True)])"
            ]
          },
          "metadata": {},
          "execution_count": 10
        }
      ]
    },
    {
      "cell_type": "code",
      "source": [
        "# Small Example for Schema\n",
        "from pyspark.sql.types import StructType, StructField, StringType, IntegerType\n",
        "schema_string = \"name string, age int\"\n",
        "\n",
        "schema_spark =  StructType([\n",
        "    StructField(\"name\", StringType(), True),\n",
        "    StructField(\"age\", IntegerType(), True)\n",
        "])"
      ],
      "metadata": {
        "id": "pSOsvDXZT6dB"
      },
      "execution_count": 40,
      "outputs": []
    },
    {
      "cell_type": "code",
      "source": [
        "from pyspark.sql.types import StructType, StructField, IntegerType, StringType\n",
        "schema_string = \"name string, age int  \"\n",
        "\n",
        "schema_spark = StructType([StructField(\"name\", StringType(), True),StructField(\"age\", StringType(), True)])"
      ],
      "metadata": {
        "id": "5Qt-7wkUWmF5"
      },
      "execution_count": 41,
      "outputs": []
    },
    {
      "cell_type": "code",
      "source": [
        "from pyspark.sql.functions import expr, col\n"
      ],
      "metadata": {
        "id": "FHW4Xh-WXhht"
      },
      "execution_count": 42,
      "outputs": []
    },
    {
      "cell_type": "code",
      "source": [
        "emp[\"salary\"]"
      ],
      "metadata": {
        "colab": {
          "base_uri": "https://localhost:8080/"
        },
        "id": "Hsn-U8hqYQ2J",
        "outputId": "bcd9fe51-df89-4c98-c59c-2f7e550961c6"
      },
      "execution_count": 43,
      "outputs": [
        {
          "output_type": "execute_result",
          "data": {
            "text/plain": [
              "Column<'salary'>"
            ]
          },
          "metadata": {},
          "execution_count": 43
        }
      ]
    },
    {
      "cell_type": "code",
      "source": [
        "# SELECT columns\n",
        "# select employee_id, name, age, salary from emp\n",
        "emp_filtered = emp.select(col(\"employee_id\"), expr(\"name\"), emp.age, emp.salary)"
      ],
      "metadata": {
        "id": "8LF2Fl4tYSl2"
      },
      "execution_count": 44,
      "outputs": []
    },
    {
      "cell_type": "code",
      "source": [
        "emp_filtered.show()"
      ],
      "metadata": {
        "colab": {
          "base_uri": "https://localhost:8080/"
        },
        "collapsed": true,
        "id": "HhqVnYdRY8dI",
        "outputId": "e7e44e06-3889-4f5b-a722-d9eabf6f3dfc"
      },
      "execution_count": 45,
      "outputs": [
        {
          "output_type": "stream",
          "name": "stdout",
          "text": [
            "+-----------+-------------+---+------+\n",
            "|employee_id|         name|age|salary|\n",
            "+-----------+-------------+---+------+\n",
            "|        001|     John Doe| 30| 50000|\n",
            "|        002|   Jane Smith| 25| 45000|\n",
            "|        003|    Bob Brown| 35| 55000|\n",
            "|        004|    Alice Lee| 28| 48000|\n",
            "|        005|    Jack Chan| 40| 60000|\n",
            "|        006|    Jill Wong| 32| 52000|\n",
            "|        007|James Johnson| 42| 70000|\n",
            "|        008|     Kate Kim| 29| 51000|\n",
            "|        009|      Tom Tan| 33| 58000|\n",
            "|        010|     Lisa Lee| 27| 47000|\n",
            "|        011|   David Park| 38| 65000|\n",
            "|        012|   Susan Chen| 31| 54000|\n",
            "|        013|    Brian Kim| 45| 75000|\n",
            "|        014|    Emily Lee| 26| 46000|\n",
            "|        015|  Michael Lee| 37| 63000|\n",
            "|        016|  Kelly Zhang| 30| 49000|\n",
            "|        017|  George Wang| 34| 57000|\n",
            "|        018|    Nancy Liu| 29| 50000|\n",
            "|        019|  Steven Chen| 36| 62000|\n",
            "|        020|    Grace Kim| 32| 53000|\n",
            "+-----------+-------------+---+------+\n",
            "\n"
          ]
        }
      ]
    },
    {
      "cell_type": "code",
      "source": [
        "# Using expr for select\n",
        "# select employee_id as emp_id, name, cast(age as int) as age, salary from emp_filtered\n",
        "\n",
        "emp_casted =emp_filtered.select(expr(\"employee_id as emp_id\"), emp.name, expr(\"cast(age as int) as age\"),emp.salary)"
      ],
      "metadata": {
        "id": "3ZFPM9PnZdrm"
      },
      "execution_count": 46,
      "outputs": []
    },
    {
      "cell_type": "code",
      "source": [
        "#show datframe\n",
        "emp_casted.show()"
      ],
      "metadata": {
        "colab": {
          "base_uri": "https://localhost:8080/"
        },
        "id": "-Yb89Jnfa-jB",
        "outputId": "c43d249d-d0c8-4942-e4c1-9fb6792ce667"
      },
      "execution_count": 47,
      "outputs": [
        {
          "output_type": "stream",
          "name": "stdout",
          "text": [
            "+------+-------------+---+------+\n",
            "|emp_id|         name|age|salary|\n",
            "+------+-------------+---+------+\n",
            "|   001|     John Doe| 30| 50000|\n",
            "|   002|   Jane Smith| 25| 45000|\n",
            "|   003|    Bob Brown| 35| 55000|\n",
            "|   004|    Alice Lee| 28| 48000|\n",
            "|   005|    Jack Chan| 40| 60000|\n",
            "|   006|    Jill Wong| 32| 52000|\n",
            "|   007|James Johnson| 42| 70000|\n",
            "|   008|     Kate Kim| 29| 51000|\n",
            "|   009|      Tom Tan| 33| 58000|\n",
            "|   010|     Lisa Lee| 27| 47000|\n",
            "|   011|   David Park| 38| 65000|\n",
            "|   012|   Susan Chen| 31| 54000|\n",
            "|   013|    Brian Kim| 45| 75000|\n",
            "|   014|    Emily Lee| 26| 46000|\n",
            "|   015|  Michael Lee| 37| 63000|\n",
            "|   016|  Kelly Zhang| 30| 49000|\n",
            "|   017|  George Wang| 34| 57000|\n",
            "|   018|    Nancy Liu| 29| 50000|\n",
            "|   019|  Steven Chen| 36| 62000|\n",
            "|   020|    Grace Kim| 32| 53000|\n",
            "+------+-------------+---+------+\n",
            "\n"
          ]
        }
      ]
    },
    {
      "cell_type": "code",
      "source": [
        "emp_casted.printSchema()"
      ],
      "metadata": {
        "colab": {
          "base_uri": "https://localhost:8080/"
        },
        "id": "-ikIB3jXbMFH",
        "outputId": "6776cb6e-ec64-456f-af3d-5bdc0cb91006"
      },
      "execution_count": 48,
      "outputs": [
        {
          "output_type": "stream",
          "name": "stdout",
          "text": [
            "root\n",
            " |-- emp_id: string (nullable = true)\n",
            " |-- name: string (nullable = true)\n",
            " |-- age: integer (nullable = true)\n",
            " |-- salary: string (nullable = true)\n",
            "\n"
          ]
        }
      ]
    },
    {
      "cell_type": "code",
      "source": [
        "emp_casted.schema"
      ],
      "metadata": {
        "colab": {
          "base_uri": "https://localhost:8080/"
        },
        "id": "YSuNUtDrbedU",
        "outputId": "df7ebe8a-edf3-4977-a849-e0648c882e90"
      },
      "execution_count": 49,
      "outputs": [
        {
          "output_type": "execute_result",
          "data": {
            "text/plain": [
              "StructType([StructField('emp_id', StringType(), True), StructField('name', StringType(), True), StructField('age', IntegerType(), True), StructField('salary', StringType(), True)])"
            ]
          },
          "metadata": {},
          "execution_count": 49
        }
      ]
    },
    {
      "cell_type": "code",
      "source": [
        "emp_casted_1=emp_filtered.selectExpr(\"employee_id as emp_id\",\"name\",\"cast(age as int) as age\",\"salary\")"
      ],
      "metadata": {
        "id": "tEAG5Dkybgxi"
      },
      "execution_count": 50,
      "outputs": []
    },
    {
      "cell_type": "code",
      "source": [
        "emp_casted_1.show()"
      ],
      "metadata": {
        "colab": {
          "base_uri": "https://localhost:8080/"
        },
        "id": "FRKYoxcdcHTV",
        "outputId": "1cc7669d-1355-46d3-a861-8c582250ba35"
      },
      "execution_count": 51,
      "outputs": [
        {
          "output_type": "stream",
          "name": "stdout",
          "text": [
            "+------+-------------+---+------+\n",
            "|emp_id|         name|age|salary|\n",
            "+------+-------------+---+------+\n",
            "|   001|     John Doe| 30| 50000|\n",
            "|   002|   Jane Smith| 25| 45000|\n",
            "|   003|    Bob Brown| 35| 55000|\n",
            "|   004|    Alice Lee| 28| 48000|\n",
            "|   005|    Jack Chan| 40| 60000|\n",
            "|   006|    Jill Wong| 32| 52000|\n",
            "|   007|James Johnson| 42| 70000|\n",
            "|   008|     Kate Kim| 29| 51000|\n",
            "|   009|      Tom Tan| 33| 58000|\n",
            "|   010|     Lisa Lee| 27| 47000|\n",
            "|   011|   David Park| 38| 65000|\n",
            "|   012|   Susan Chen| 31| 54000|\n",
            "|   013|    Brian Kim| 45| 75000|\n",
            "|   014|    Emily Lee| 26| 46000|\n",
            "|   015|  Michael Lee| 37| 63000|\n",
            "|   016|  Kelly Zhang| 30| 49000|\n",
            "|   017|  George Wang| 34| 57000|\n",
            "|   018|    Nancy Liu| 29| 50000|\n",
            "|   019|  Steven Chen| 36| 62000|\n",
            "|   020|    Grace Kim| 32| 53000|\n",
            "+------+-------------+---+------+\n",
            "\n"
          ]
        }
      ]
    },
    {
      "cell_type": "code",
      "source": [
        "# Q1Filter emp based on Age > 30\n",
        "# select emp_id, name, age, salary from emp_casted where age > 30\n",
        "emp_filtered11 = emp_casted.where(\"age > 30\")\n",
        "\n",
        "emp_final =emp_casted.select(\"emp_id\",\"name\",\"age\",\"salary\").where(\"age > 30\")"
      ],
      "metadata": {
        "id": "TGSI2zkucWQh"
      },
      "execution_count": 60,
      "outputs": []
    },
    {
      "cell_type": "code",
      "source": [
        "emp_final.show()"
      ],
      "metadata": {
        "colab": {
          "base_uri": "https://localhost:8080/"
        },
        "id": "_y8bXVSxdPza",
        "outputId": "4a809cfd-b066-4a0b-a5ba-7b9007b5a43b"
      },
      "execution_count": 57,
      "outputs": [
        {
          "output_type": "stream",
          "name": "stdout",
          "text": [
            "+------+-------------+---+------+\n",
            "|emp_id|         name|age|salary|\n",
            "+------+-------------+---+------+\n",
            "|   003|    Bob Brown| 35| 55000|\n",
            "|   005|    Jack Chan| 40| 60000|\n",
            "|   006|    Jill Wong| 32| 52000|\n",
            "|   007|James Johnson| 42| 70000|\n",
            "|   009|      Tom Tan| 33| 58000|\n",
            "|   011|   David Park| 38| 65000|\n",
            "|   012|   Susan Chen| 31| 54000|\n",
            "|   013|    Brian Kim| 45| 75000|\n",
            "|   015|  Michael Lee| 37| 63000|\n",
            "|   017|  George Wang| 34| 57000|\n",
            "|   019|  Steven Chen| 36| 62000|\n",
            "|   020|    Grace Kim| 32| 53000|\n",
            "+------+-------------+---+------+\n",
            "\n"
          ]
        }
      ]
    },
    {
      "cell_type": "code",
      "source": [
        "emp_filtered11.show()"
      ],
      "metadata": {
        "colab": {
          "base_uri": "https://localhost:8080/"
        },
        "id": "_wg619KUhAXB",
        "outputId": "cd27cf51-71a2-4d14-d60d-e862cb3a4b21"
      },
      "execution_count": 63,
      "outputs": [
        {
          "output_type": "stream",
          "name": "stdout",
          "text": [
            "+------+-------------+---+------+\n",
            "|emp_id|         name|age|salary|\n",
            "+------+-------------+---+------+\n",
            "|   003|    Bob Brown| 35| 55000|\n",
            "|   005|    Jack Chan| 40| 60000|\n",
            "|   006|    Jill Wong| 32| 52000|\n",
            "|   007|James Johnson| 42| 70000|\n",
            "|   009|      Tom Tan| 33| 58000|\n",
            "|   011|   David Park| 38| 65000|\n",
            "|   012|   Susan Chen| 31| 54000|\n",
            "|   013|    Brian Kim| 45| 75000|\n",
            "|   015|  Michael Lee| 37| 63000|\n",
            "|   017|  George Wang| 34| 57000|\n",
            "|   019|  Steven Chen| 36| 62000|\n",
            "|   020|    Grace Kim| 32| 53000|\n",
            "+------+-------------+---+------+\n",
            "\n"
          ]
        }
      ]
    },
    {
      "cell_type": "code",
      "source": [
        "emp_final.write.format(\"csv\").save(\"data/output/21/emp.csv\")"
      ],
      "metadata": {
        "id": "8ay5kak0dT0q"
      },
      "execution_count": 65,
      "outputs": []
    },
    {
      "cell_type": "code",
      "source": [],
      "metadata": {
        "id": "-BMGIj73hmdK"
      },
      "execution_count": null,
      "outputs": []
    }
  ]
}